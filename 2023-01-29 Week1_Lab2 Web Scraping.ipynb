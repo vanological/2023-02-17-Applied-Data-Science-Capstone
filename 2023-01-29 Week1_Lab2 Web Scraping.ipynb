{
 "cells": [
  {
   "cell_type": "code",
   "execution_count": 1,
   "metadata": {},
   "outputs": [],
   "source": [
    "from bs4 import BeautifulSoup\n",
    "import requests"
   ]
  },
  {
   "cell_type": "code",
   "execution_count": 2,
   "metadata": {},
   "outputs": [],
   "source": [
    "import sys\n",
    "import re\n",
    "import unicodedata\n",
    "import pandas as pd"
   ]
  },
  {
   "cell_type": "code",
   "execution_count": 3,
   "metadata": {},
   "outputs": [],
   "source": [
    "def date_time(table_cells):\n",
    "    \"\"\"\n",
    "    This function returns the data and time from the HTML  table cell\n",
    "    Input: the  element of a table data cell extracts extra row\n",
    "    \"\"\"\n",
    "    return [data_time.strip() for data_time in list(table_cells.strings)][0:2]\n",
    "\n",
    "def booster_version(table_cells):\n",
    "    \"\"\"\n",
    "    This function returns the booster version from the HTML  table cell \n",
    "    Input: the  element of a table data cell extracts extra row\n",
    "    \"\"\"\n",
    "    out=''.join([booster_version for i,booster_version in enumerate( table_cells.strings) if i%2==0][0:-1])\n",
    "    return out\n",
    "\n",
    "def landing_status(table_cells):\n",
    "    \"\"\"\n",
    "    This function returns the landing status from the HTML table cell \n",
    "    Input: the  element of a table data cell extracts extra row\n",
    "    \"\"\"\n",
    "    out=[i for i in table_cells.strings][0]\n",
    "    return out\n",
    "\n",
    "\n",
    "def get_mass(table_cells):\n",
    "    mass=unicodedata.normalize(\"NFKD\", table_cells.text).strip()\n",
    "    if mass:\n",
    "        mass.find(\"kg\")\n",
    "        new_mass=mass[0:mass.find(\"kg\")+2]\n",
    "    else:\n",
    "        new_mass=0\n",
    "    return new_mass\n",
    "\n",
    "\n",
    "def extract_column_from_header(row):\n",
    "    \"\"\"\n",
    "    This function returns the landing status from the HTML table cell \n",
    "    Input: the  element of a table data cell extracts extra row\n",
    "    \"\"\"\n",
    "    if (row.br):\n",
    "        row.br.extract()\n",
    "    if row.a:\n",
    "        row.a.extract()\n",
    "    if row.sup:\n",
    "        row.sup.extract()\n",
    "        \n",
    "    colunm_name = ' '.join(row.contents)\n",
    "    \n",
    "    # Filter the digit and empty names\n",
    "    if not(colunm_name.strip().isdigit()):\n",
    "        colunm_name = colunm_name.strip()\n",
    "        return colunm_name    \n"
   ]
  },
  {
   "cell_type": "code",
   "execution_count": 4,
   "metadata": {},
   "outputs": [],
   "source": [
    "static_url = \"https://en.wikipedia.org/w/index.php?title=List_of_Falcon_9_and_Falcon_Heavy_launches&oldid=1027686922\"\n",
    "response = requests.get(static_url)\n",
    "soup = BeautifulSoup(response.text, 'html.parser')\n",
    "soup.title\n",
    "first_launch_table = soup.find_all('tbody')[2]\n",
    "print(first_launch_table)"
   ]
  },
  {
   "cell_type": "code",
   "execution_count": 50,
   "metadata": {},
   "outputs": [
    {
     "name": "stdout",
     "output_type": "stream",
     "text": [
      "['Flight No.', 'Date andtime (UTC)', 'Version,Booster [b]', 'Launch site', 'Payload[c]', 'Payload mass', 'Orbit', 'Customer', 'Launchoutcome', 'Boosterlanding']\n",
      "10\n"
     ]
    }
   ],
   "source": [
    "column_names = []\n",
    "for col in first_launch_table.find_all('th'):\n",
    "    column_names.append(col.text.strip('\\n'))\n",
    "removal = ['1', '2', '3', '4', '5', '6', '7']\n",
    "for remove in removal:\n",
    "    column_names.remove(remove)\n",
    "print(column_names)\n",
    "print(len(column_names))\n"
   ]
  },
  {
   "cell_type": "code",
   "execution_count": 10,
   "metadata": {},
   "outputs": [
    {
     "data": {
      "text/plain": [
       "{'Flight No.': None,\n",
       " 'Date andtime (UTC)': None,\n",
       " 'Version,Booster [b]': None,\n",
       " 'Launch site': None,\n",
       " 'Payload[c]': None,\n",
       " 'Payload mass': None,\n",
       " 'Orbit': None,\n",
       " 'Customer': None,\n",
       " 'Launchoutcome': None,\n",
       " 'Boosterlanding': None}"
      ]
     },
     "execution_count": 10,
     "metadata": {},
     "output_type": "execute_result"
    }
   ],
   "source": [
    "launch_dict = dict.fromkeys(column_names)\n",
    "launch_dict#for key in launch_dict.keys():"
   ]
  },
  {
   "cell_type": "code",
   "execution_count": 19,
   "metadata": {},
   "outputs": [],
   "source": [
    "scrapeResult = {}\n",
    "counter = 0\n",
    "for row in first_launch_table.find_all('tr'):\n",
    "    data = row.find_all('td')\n",
    "    if len(data) == 9:\n",
    "        rowResult = []\n",
    "        counter += 1\n",
    "        for value in data:\n",
    "            rowResult.append(value.text.strip('\\n'))\n",
    "        scrapeResult[counter] = rowResult\n",
    "        \n",
    "\n"
   ]
  },
  {
   "cell_type": "code",
   "execution_count": 20,
   "metadata": {},
   "outputs": [
    {
     "name": "stdout",
     "output_type": "stream",
     "text": [
      "{1: ['4 June 2010,18:45', 'F9 v1.0[7]B0003.1[8]', 'CCAFS,SLC-40', 'Dragon Spacecraft Qualification Unit', '', 'LEO', 'SpaceX', 'Success', 'Failure[9][10](parachute)'], 2: ['8 December 2010,15:43[13]', 'F9 v1.0[7]B0004.1[8]', 'CCAFS,SLC-40', 'Dragon demo flight C1(Dragon C101)', '', 'LEO (ISS)', 'NASA (COTS)\\nNRO', 'Success[9]', 'Failure[9][14](parachute)'], 3: ['22 May 2012,07:44[17]', 'F9 v1.0[7]B0005.1[8]', 'CCAFS,SLC-40', 'Dragon demo flight C2+[18](Dragon C102)', '525\\xa0kg (1,157\\xa0lb)[19]', 'LEO (ISS)', 'NASA (COTS)', 'Success[20]', 'No attempt'], 4: ['8 October 2012,00:35[21]', 'F9 v1.0[7]B0006.1[8]', 'CCAFS,SLC-40', 'SpaceX CRS-1[22](Dragon C103)', '4,700\\xa0kg (10,400\\xa0lb)', 'LEO (ISS)', 'NASA (CRS)', 'Success', 'No attempt'], 5: ['1 March 2013,15:10', 'F9 v1.0[7]B0007.1[8]', 'CCAFS,SLC-40', 'SpaceX CRS-2[22](Dragon C104)', '4,877\\xa0kg (10,752\\xa0lb)', 'LEO (ISS)', 'NASA (CRS)', 'Success', 'No attempt'], 6: ['29 September 2013,16:00[30]', 'F9 v1.1[7]B1003[8]', 'VAFB,SLC-4E', 'CASSIOPE[22][31]', '500\\xa0kg (1,100\\xa0lb)', 'Polar orbit LEO', 'MDA', 'Success[30]', 'Uncontrolled(ocean)[d]'], 7: ['3 December 2013,22:41[34]', 'F9 v1.1B1004', 'CCAFS,SLC-40', 'SES-8[22][35][36]', '3,170\\xa0kg (6,990\\xa0lb)', 'GTO', 'SES', 'Success[37]', 'No attempt[38]']}\n"
     ]
    }
   ],
   "source": [
    "print(scrapeResult)"
   ]
  },
  {
   "cell_type": "code",
   "execution_count": 21,
   "metadata": {},
   "outputs": [],
   "source": [
    "for key, theList in scrapeResult.items():\n",
    "    theList.insert(0, key)\n"
   ]
  },
  {
   "cell_type": "code",
   "execution_count": 22,
   "metadata": {},
   "outputs": [
    {
     "data": {
      "text/plain": [
       "{1: [1,\n",
       "  '4 June 2010,18:45',\n",
       "  'F9 v1.0[7]B0003.1[8]',\n",
       "  'CCAFS,SLC-40',\n",
       "  'Dragon Spacecraft Qualification Unit',\n",
       "  '',\n",
       "  'LEO',\n",
       "  'SpaceX',\n",
       "  'Success',\n",
       "  'Failure[9][10](parachute)'],\n",
       " 2: [2,\n",
       "  '8 December 2010,15:43[13]',\n",
       "  'F9 v1.0[7]B0004.1[8]',\n",
       "  'CCAFS,SLC-40',\n",
       "  'Dragon demo flight C1(Dragon C101)',\n",
       "  '',\n",
       "  'LEO (ISS)',\n",
       "  'NASA (COTS)\\nNRO',\n",
       "  'Success[9]',\n",
       "  'Failure[9][14](parachute)'],\n",
       " 3: [3,\n",
       "  '22 May 2012,07:44[17]',\n",
       "  'F9 v1.0[7]B0005.1[8]',\n",
       "  'CCAFS,SLC-40',\n",
       "  'Dragon demo flight C2+[18](Dragon C102)',\n",
       "  '525\\xa0kg (1,157\\xa0lb)[19]',\n",
       "  'LEO (ISS)',\n",
       "  'NASA (COTS)',\n",
       "  'Success[20]',\n",
       "  'No attempt'],\n",
       " 4: [4,\n",
       "  '8 October 2012,00:35[21]',\n",
       "  'F9 v1.0[7]B0006.1[8]',\n",
       "  'CCAFS,SLC-40',\n",
       "  'SpaceX CRS-1[22](Dragon C103)',\n",
       "  '4,700\\xa0kg (10,400\\xa0lb)',\n",
       "  'LEO (ISS)',\n",
       "  'NASA (CRS)',\n",
       "  'Success',\n",
       "  'No attempt'],\n",
       " 5: [5,\n",
       "  '1 March 2013,15:10',\n",
       "  'F9 v1.0[7]B0007.1[8]',\n",
       "  'CCAFS,SLC-40',\n",
       "  'SpaceX CRS-2[22](Dragon C104)',\n",
       "  '4,877\\xa0kg (10,752\\xa0lb)',\n",
       "  'LEO (ISS)',\n",
       "  'NASA (CRS)',\n",
       "  'Success',\n",
       "  'No attempt'],\n",
       " 6: [6,\n",
       "  '29 September 2013,16:00[30]',\n",
       "  'F9 v1.1[7]B1003[8]',\n",
       "  'VAFB,SLC-4E',\n",
       "  'CASSIOPE[22][31]',\n",
       "  '500\\xa0kg (1,100\\xa0lb)',\n",
       "  'Polar orbit LEO',\n",
       "  'MDA',\n",
       "  'Success[30]',\n",
       "  'Uncontrolled(ocean)[d]'],\n",
       " 7: [7,\n",
       "  '3 December 2013,22:41[34]',\n",
       "  'F9 v1.1B1004',\n",
       "  'CCAFS,SLC-40',\n",
       "  'SES-8[22][35][36]',\n",
       "  '3,170\\xa0kg (6,990\\xa0lb)',\n",
       "  'GTO',\n",
       "  'SES',\n",
       "  'Success[37]',\n",
       "  'No attempt[38]']}"
      ]
     },
     "execution_count": 22,
     "metadata": {},
     "output_type": "execute_result"
    }
   ],
   "source": [
    "scrapeResult"
   ]
  },
  {
   "cell_type": "code",
   "execution_count": 42,
   "metadata": {},
   "outputs": [],
   "source": [
    "outerList = []\n",
    "for innerCounter in range(0, 10):\n",
    "    innerList=[]\n",
    "    for outerCounter in range(1, 8):\n",
    "        innerList.append(scrapeResult[outerCounter][innerCounter])\n",
    "    outerList.append(innerList)\n",
    "    \n"
   ]
  },
  {
   "cell_type": "code",
   "execution_count": 45,
   "metadata": {},
   "outputs": [],
   "source": [
    "counter = 0\n",
    "for key in launch_dict.keys():\n",
    "    launch_dict[key] = outerList[counter]\n",
    "    counter += 1"
   ]
  },
  {
   "cell_type": "code",
   "execution_count": 47,
   "metadata": {},
   "outputs": [
    {
     "data": {
      "text/html": [
       "<div>\n",
       "<style scoped>\n",
       "    .dataframe tbody tr th:only-of-type {\n",
       "        vertical-align: middle;\n",
       "    }\n",
       "\n",
       "    .dataframe tbody tr th {\n",
       "        vertical-align: top;\n",
       "    }\n",
       "\n",
       "    .dataframe thead th {\n",
       "        text-align: right;\n",
       "    }\n",
       "</style>\n",
       "<table border=\"1\" class=\"dataframe\">\n",
       "  <thead>\n",
       "    <tr style=\"text-align: right;\">\n",
       "      <th></th>\n",
       "      <th>Flight No.</th>\n",
       "      <th>Date andtime (UTC)</th>\n",
       "      <th>Version,Booster [b]</th>\n",
       "      <th>Launch site</th>\n",
       "      <th>Payload[c]</th>\n",
       "      <th>Payload mass</th>\n",
       "      <th>Orbit</th>\n",
       "      <th>Customer</th>\n",
       "      <th>Launchoutcome</th>\n",
       "      <th>Boosterlanding</th>\n",
       "    </tr>\n",
       "  </thead>\n",
       "  <tbody>\n",
       "    <tr>\n",
       "      <th>0</th>\n",
       "      <td>1</td>\n",
       "      <td>4 June 2010,18:45</td>\n",
       "      <td>F9 v1.0[7]B0003.1[8]</td>\n",
       "      <td>CCAFS,SLC-40</td>\n",
       "      <td>Dragon Spacecraft Qualification Unit</td>\n",
       "      <td></td>\n",
       "      <td>LEO</td>\n",
       "      <td>SpaceX</td>\n",
       "      <td>Success</td>\n",
       "      <td>Failure[9][10](parachute)</td>\n",
       "    </tr>\n",
       "    <tr>\n",
       "      <th>1</th>\n",
       "      <td>2</td>\n",
       "      <td>8 December 2010,15:43[13]</td>\n",
       "      <td>F9 v1.0[7]B0004.1[8]</td>\n",
       "      <td>CCAFS,SLC-40</td>\n",
       "      <td>Dragon demo flight C1(Dragon C101)</td>\n",
       "      <td></td>\n",
       "      <td>LEO (ISS)</td>\n",
       "      <td>NASA (COTS)\\nNRO</td>\n",
       "      <td>Success[9]</td>\n",
       "      <td>Failure[9][14](parachute)</td>\n",
       "    </tr>\n",
       "    <tr>\n",
       "      <th>2</th>\n",
       "      <td>3</td>\n",
       "      <td>22 May 2012,07:44[17]</td>\n",
       "      <td>F9 v1.0[7]B0005.1[8]</td>\n",
       "      <td>CCAFS,SLC-40</td>\n",
       "      <td>Dragon demo flight C2+[18](Dragon C102)</td>\n",
       "      <td>525 kg (1,157 lb)[19]</td>\n",
       "      <td>LEO (ISS)</td>\n",
       "      <td>NASA (COTS)</td>\n",
       "      <td>Success[20]</td>\n",
       "      <td>No attempt</td>\n",
       "    </tr>\n",
       "    <tr>\n",
       "      <th>3</th>\n",
       "      <td>4</td>\n",
       "      <td>8 October 2012,00:35[21]</td>\n",
       "      <td>F9 v1.0[7]B0006.1[8]</td>\n",
       "      <td>CCAFS,SLC-40</td>\n",
       "      <td>SpaceX CRS-1[22](Dragon C103)</td>\n",
       "      <td>4,700 kg (10,400 lb)</td>\n",
       "      <td>LEO (ISS)</td>\n",
       "      <td>NASA (CRS)</td>\n",
       "      <td>Success</td>\n",
       "      <td>No attempt</td>\n",
       "    </tr>\n",
       "    <tr>\n",
       "      <th>4</th>\n",
       "      <td>5</td>\n",
       "      <td>1 March 2013,15:10</td>\n",
       "      <td>F9 v1.0[7]B0007.1[8]</td>\n",
       "      <td>CCAFS,SLC-40</td>\n",
       "      <td>SpaceX CRS-2[22](Dragon C104)</td>\n",
       "      <td>4,877 kg (10,752 lb)</td>\n",
       "      <td>LEO (ISS)</td>\n",
       "      <td>NASA (CRS)</td>\n",
       "      <td>Success</td>\n",
       "      <td>No attempt</td>\n",
       "    </tr>\n",
       "    <tr>\n",
       "      <th>5</th>\n",
       "      <td>6</td>\n",
       "      <td>29 September 2013,16:00[30]</td>\n",
       "      <td>F9 v1.1[7]B1003[8]</td>\n",
       "      <td>VAFB,SLC-4E</td>\n",
       "      <td>CASSIOPE[22][31]</td>\n",
       "      <td>500 kg (1,100 lb)</td>\n",
       "      <td>Polar orbit LEO</td>\n",
       "      <td>MDA</td>\n",
       "      <td>Success[30]</td>\n",
       "      <td>Uncontrolled(ocean)[d]</td>\n",
       "    </tr>\n",
       "    <tr>\n",
       "      <th>6</th>\n",
       "      <td>7</td>\n",
       "      <td>3 December 2013,22:41[34]</td>\n",
       "      <td>F9 v1.1B1004</td>\n",
       "      <td>CCAFS,SLC-40</td>\n",
       "      <td>SES-8[22][35][36]</td>\n",
       "      <td>3,170 kg (6,990 lb)</td>\n",
       "      <td>GTO</td>\n",
       "      <td>SES</td>\n",
       "      <td>Success[37]</td>\n",
       "      <td>No attempt[38]</td>\n",
       "    </tr>\n",
       "  </tbody>\n",
       "</table>\n",
       "</div>"
      ],
      "text/plain": [
       "   Flight No.           Date andtime (UTC)   Version,Booster [b]  \\\n",
       "0           1            4 June 2010,18:45  F9 v1.0[7]B0003.1[8]   \n",
       "1           2    8 December 2010,15:43[13]  F9 v1.0[7]B0004.1[8]   \n",
       "2           3        22 May 2012,07:44[17]  F9 v1.0[7]B0005.1[8]   \n",
       "3           4     8 October 2012,00:35[21]  F9 v1.0[7]B0006.1[8]   \n",
       "4           5           1 March 2013,15:10  F9 v1.0[7]B0007.1[8]   \n",
       "5           6  29 September 2013,16:00[30]    F9 v1.1[7]B1003[8]   \n",
       "6           7    3 December 2013,22:41[34]          F9 v1.1B1004   \n",
       "\n",
       "    Launch site                               Payload[c]  \\\n",
       "0  CCAFS,SLC-40     Dragon Spacecraft Qualification Unit   \n",
       "1  CCAFS,SLC-40       Dragon demo flight C1(Dragon C101)   \n",
       "2  CCAFS,SLC-40  Dragon demo flight C2+[18](Dragon C102)   \n",
       "3  CCAFS,SLC-40            SpaceX CRS-1[22](Dragon C103)   \n",
       "4  CCAFS,SLC-40            SpaceX CRS-2[22](Dragon C104)   \n",
       "5   VAFB,SLC-4E                         CASSIOPE[22][31]   \n",
       "6  CCAFS,SLC-40                        SES-8[22][35][36]   \n",
       "\n",
       "            Payload mass            Orbit          Customer Launchoutcome  \\\n",
       "0                                     LEO            SpaceX       Success   \n",
       "1                               LEO (ISS)  NASA (COTS)\\nNRO    Success[9]   \n",
       "2  525 kg (1,157 lb)[19]        LEO (ISS)       NASA (COTS)   Success[20]   \n",
       "3   4,700 kg (10,400 lb)        LEO (ISS)        NASA (CRS)       Success   \n",
       "4   4,877 kg (10,752 lb)        LEO (ISS)        NASA (CRS)       Success   \n",
       "5      500 kg (1,100 lb)  Polar orbit LEO               MDA   Success[30]   \n",
       "6    3,170 kg (6,990 lb)              GTO               SES   Success[37]   \n",
       "\n",
       "              Boosterlanding  \n",
       "0  Failure[9][10](parachute)  \n",
       "1  Failure[9][14](parachute)  \n",
       "2                 No attempt  \n",
       "3                 No attempt  \n",
       "4                 No attempt  \n",
       "5     Uncontrolled(ocean)[d]  \n",
       "6             No attempt[38]  "
      ]
     },
     "execution_count": 47,
     "metadata": {},
     "output_type": "execute_result"
    }
   ],
   "source": [
    "df = pd.DataFrame(launch_dict)\n",
    "df"
   ]
  },
  {
   "cell_type": "code",
   "execution_count": null,
   "metadata": {},
   "outputs": [],
   "source": []
  }
 ],
 "metadata": {
  "kernelspec": {
   "display_name": "Python 3",
   "language": "python",
   "name": "python3"
  },
  "language_info": {
   "codemirror_mode": {
    "name": "ipython",
    "version": 3
   },
   "file_extension": ".py",
   "mimetype": "text/x-python",
   "name": "python",
   "nbconvert_exporter": "python",
   "pygments_lexer": "ipython3",
   "version": "3.11.1"
  },
  "orig_nbformat": 4,
  "vscode": {
   "interpreter": {
    "hash": "c6bfb2173875365c6f6a47918ff3555a10b815d3854050205ed19c736f85c835"
   }
  }
 },
 "nbformat": 4,
 "nbformat_minor": 2
}
